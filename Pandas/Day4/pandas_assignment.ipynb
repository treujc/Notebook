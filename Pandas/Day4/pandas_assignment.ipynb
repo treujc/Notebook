{
 "cells": [
  {
   "cell_type": "markdown",
   "metadata": {},
   "source": [
    "# Instructions\n",
    "\n",
    "For the second part of the assignment tonight, we're going to get a little bit of practice with `Pandas`. We'll ask that you do a couple of different things using the new tools that we learned about (methods for combining data sets, `pd.cut`, and `pivot tables`). "
   ]
  },
  {
   "cell_type": "markdown",
   "metadata": {},
   "source": [
    "# Assignment Questions\n",
    "\n",
    "We'll be working with the `wine` datasets that are located in the `data` folder in this day's directory. \n",
    "\n",
    "1) Read the `winequality-red.csv` data into a `DataFrame`, and the `winequality-white.csv` into another `DataFrame`.\n",
    "\n",
    "2) Double check that you've read them in right by using some of the attributes and methods available on `DataFrames` for getting a general sense of your data (**Hint**: See `day10-intro_pandas`, `week5` if you need a refresher on these). \n",
    "\n",
    "3) I've decided that this month I want to stay away from wines with relatively high alcohol content. To do that, I'm going to avoid any wines that have a greater alcohol content than the mean alcohol content, and you're going to help me do this. To achieve this, let's do the following: \n",
    "\n",
    "  * Find the mean alcohol content, separately, for reds and whites.  \n",
    "  * Create a `Series` that holds whether each row in each `DataFrame` (the reds, and whites) has a higher alcohol content than the mean. \n",
    "  * Merge this `Series` onto the `DataFrame`. I can imagine doing this with either a `.join()` or using `pd.concat()`. For practice, do it with both. Note: merges with `Series` work the same way that they work with `DataFrames`.  \n",
    "  * Return back to me all those rows that will help me stay away from those wines with a higher alcohol content.  \n",
    "   \n",
    "   \n",
    "4) Let's say that I want to get started on cutting back next month. This time, though, I want to focus on staying away from those wines with a high acidity. Specifically, I want to stay away from those wines that are in the highest bin of fixed acidity (highest bin out of 5). You're now going to help me do this. To achieve this, let's do the following: \n",
    "\n",
    " * Separate the rows in each `DataFrame` into 5 equal width bins based off their fixed acidity. \n",
    " * Merge the resulting `Series` holding these 5 bins onto the original `DataFrame`. I can imagine also doing this with either `.join()` or using `pd.concat()`. Try doing it with both for practice. \n",
    " * Return back to me all those rows that are **not in ** the top bin in terms of fixed acidity. \n",
    "\n",
    "5) Let's say that I now want to know how much my decision to avoid those wines with higher `alcohol` content is going to limit the `quality` of wines that I can drink. To figure this out, I want to know a couple of things: \n",
    "\n",
    " * The average `alcohol` content for those reds above the mean `alcohol` level, by quality.\n",
    " * The average `alcohol` content for those whites above the mean `alcohol` level, by quality. \n",
    " \n",
    " Use a `pivot table` to solve this. \n",
    " \n",
    "6) Now, do the same for my decision to avoid wines with a high acidity next month: \n",
    "\n",
    " * Find the average `alcohol` content for reds, by `quality` and `fixed acidity` quintile. \n",
    " * Find the average `alcohol` content for whites, by `quality` and `fixed acidity` quintile. \n",
    " \n",
    "  Use a `pivot table` to solve this. "
   ]
  },
  {
   "cell_type": "code",
   "execution_count": null,
   "metadata": {
    "collapsed": true
   },
   "outputs": [],
   "source": []
  }
 ],
 "metadata": {
  "kernelspec": {
   "display_name": "Python 3",
   "language": "python",
   "name": "python3"
  },
  "language_info": {
   "codemirror_mode": {
    "name": "ipython",
    "version": 3
   },
   "file_extension": ".py",
   "mimetype": "text/x-python",
   "name": "python",
   "nbconvert_exporter": "python",
   "pygments_lexer": "ipython3",
   "version": "3.6.4"
  }
 },
 "nbformat": 4,
 "nbformat_minor": 1
}
