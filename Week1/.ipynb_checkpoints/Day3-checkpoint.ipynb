{
 "cells": [
  {
   "cell_type": "markdown",
   "metadata": {
    "collapsed": true
   },
   "source": [
    "Coin flip example from stats materials."
   ]
  },
  {
   "cell_type": "code",
   "execution_count": 34,
   "metadata": {},
   "outputs": [
    {
     "name": "stdout",
     "output_type": "stream",
     "text": [
      "We observed 320 heads out of 500\n"
     ]
    }
   ],
   "source": [
    "import numpy as np\n",
    "import matplotlib.pyplot as plt\n",
    "import scipy.stats as st\n",
    "np.random.seed(40) #makes random function starts at the same spot every time.\n",
    "#used the bernoulli distribution to simulate random coin-flips from a biased coin.\n",
    "n = 500\n",
    "pcoin = 0.62 # actual value of p for coin\n",
    "results = st.bernoulli(pcoin).rvs(n)\n",
    "h = sum(results)\n",
    "print(\"We observed %s heads out of %s\"%(h,n))"
   ]
  },
  {
   "cell_type": "markdown",
   "metadata": {},
   "source": [
    "Null hypothesis is Data is unbiased."
   ]
  },
  {
   "cell_type": "code",
   "execution_count": 35,
   "metadata": {},
   "outputs": [
    {
     "name": "stdout",
     "output_type": "stream",
     "text": [
      "The expected distribution for a fair coin is mu=250.0, sd=11.1803398875\n"
     ]
    }
   ],
   "source": [
    "p = 0.5\n",
    "rv = st.binom(n,p)\n",
    "mu = rv.mean()\n",
    "sd = rv.std()\n",
    "print(\"The expected distribution for a fair coin is mu=%s, sd=%s\"%(mu,sd))"
   ]
  },
  {
   "cell_type": "markdown",
   "metadata": {},
   "source": [
    "Binomial Test"
   ]
  },
  {
   "cell_type": "code",
   "execution_count": 36,
   "metadata": {
    "scrolled": true
   },
   "outputs": [
    {
     "name": "stdout",
     "output_type": "stream",
     "text": [
      "binomial test p-value: 3.93965103629e-10\n"
     ]
    }
   ],
   "source": [
    "print(\"binomial test p-value: %s\"%st.binom_test(h, n, p))"
   ]
  },
  {
   "cell_type": "markdown",
   "metadata": {},
   "source": [
    "Z-Test (with continuity correction)"
   ]
  },
  {
   "cell_type": "code",
   "execution_count": 37,
   "metadata": {},
   "outputs": [
    {
     "name": "stdout",
     "output_type": "stream",
     "text": [
      "normal approximation p-value: - 5.09114972402e-10\n"
     ]
    }
   ],
   "source": [
    "z = (h-0.5-mu)/sd\n",
    "print(\"normal approximation p-value: - %s\"%(2*(1 - st.norm.cdf(z))))"
   ]
  },
  {
   "cell_type": "markdown",
   "metadata": {},
   "source": [
    "Permutation (Simulation) Test"
   ]
  },
  {
   "cell_type": "code",
   "execution_count": 38,
   "metadata": {},
   "outputs": [
    {
     "name": "stdout",
     "output_type": "stream",
     "text": [
      "simulation p-value - 0.0\n"
     ]
    }
   ],
   "source": [
    "nsamples = 100000\n",
    "xs = np.random.binomial(n, p, nsamples)\n",
    "print(\"simulation p-value - %s\"%(2*np.sum(xs >= h)/(xs.size + 0.0)))"
   ]
  },
  {
   "cell_type": "markdown",
   "metadata": {},
   "source": [
    "Maximum Likelihood Estimation (MLE)"
   ]
  },
  {
   "cell_type": "code",
   "execution_count": 39,
   "metadata": {},
   "outputs": [
    {
     "name": "stdout",
     "output_type": "stream",
     "text": [
      "Maximum Likelihood Estimate: 0.64\n",
      "Bootstrap CI: (0.5980, 0.6820)\n"
     ]
    }
   ],
   "source": [
    "bs_samples = np.random.choice(results, (nsamples, len(results)), replace=True)\n",
    "bs_ps = np.mean(bs_samples, axis=1)\n",
    "bs_ps.sort()\n",
    "\n",
    "print(\"Maximum Likelihood Estimate: %s\"%(np.sum(results)/float(len(results))))\n",
    "print(\"Bootstrap CI: (%.4f, %.4f)\" % (bs_ps[int(0.025*nsamples)], bs_ps[int(0.975*nsamples)]))"
   ]
  },
  {
   "cell_type": "markdown",
   "metadata": {},
   "source": [
    "Bayesian Estamition"
   ]
  },
  {
   "cell_type": "code",
   "execution_count": 40,
   "metadata": {},
   "outputs": [
    {
     "data": {
      "image/png": "[encoded data removed]",
      "text/plain": [
       "<matplotlib.figure.Figure at 0x174eedd6710>"
      ]
     },
     "metadata": {},
     "output_type": "display_data"
    }
   ],
   "source": [
    "fig  = plt.figure()\n",
    "ax = fig.add_subplot(111)\n",
    "\n",
    "a, b = 10, 10\n",
    "prior = st.beta(a, b)\n",
    "post = st.beta(h+a, n-h+b)\n",
    "ci = post.interval(0.95)\n",
    "map_ =(h+a-1.0)/(n+a+b-2.0)\n",
    "\n",
    "xs = np.linspace(0, 1, 100)\n",
    "ax.plot(prior.pdf(xs), label='Prior')\n",
    "ax.plot(post.pdf(xs), label='Posterior')\n",
    "ax.axvline(mu, c='red', linestyle='dashed', alpha=0.4)\n",
    "ax.set_xlim([0, 100])\n",
    "ax.axhline(0.3, ci[0], ci[1], c='black', linewidth=2, label='95% CI');\n",
    "ax.axvline(n*map_, c='blue', linestyle='dashed', alpha=0.4)\n",
    "ax.legend()\n",
    "plt.savefig(\"coin-toss.png\") #saves the plot to a file.\n",
    "plt.show() #displays the plot."
   ]
  }
 ],
 "metadata": {
  "kernelspec": {
   "display_name": "Python 3",
   "language": "python",
   "name": "python3"
  },
  "language_info": {
   "codemirror_mode": {
    "name": "ipython",
    "version": 3
   },
   "file_extension": ".py",
   "mimetype": "text/x-python",
   "name": "python",
   "nbconvert_exporter": "python",
   "pygments_lexer": "ipython3",
   "version": "3.6.4"
  }
 },
 "nbformat": 4,
 "nbformat_minor": 2
}
