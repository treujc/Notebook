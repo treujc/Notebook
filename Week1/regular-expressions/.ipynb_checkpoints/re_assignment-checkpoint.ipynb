{
 "cells": [
  {
   "cell_type": "code",
   "execution_count": 74,
   "metadata": {
    "collapsed": true
   },
   "outputs": [],
   "source": [
    "import re"
   ]
  },
  {
   "cell_type": "markdown",
   "metadata": {},
   "source": [
    "## Part I - Basic Regular Expression Syntax"
   ]
  },
  {
   "cell_type": "code",
   "execution_count": 75,
   "metadata": {
    "collapsed": true
   },
   "outputs": [],
   "source": [
    "s = \"Today you are you! That is truer than true! \"\n",
    "s += \"There is no one alive who is you-er than you! (Quote 42)\""
   ]
  },
  {
   "cell_type": "code",
   "execution_count": 76,
   "metadata": {},
   "outputs": [
    {
     "data": {
      "text/plain": [
       "['T', 'T', 'T', 'Q']"
      ]
     },
     "execution_count": 76,
     "metadata": {},
     "output_type": "execute_result"
    }
   ],
   "source": [
    "## match all upper case letters\n",
    "re.findall('[A-Z]',s)"
   ]
  },
  {
   "cell_type": "code",
   "execution_count": 77,
   "metadata": {},
   "outputs": [
    {
     "data": {
      "text/plain": [
       "['T', 'T', 'T']"
      ]
     },
     "execution_count": 77,
     "metadata": {},
     "output_type": "execute_result"
    }
   ],
   "source": [
    "## match All of the 'T's\n",
    "re.findall('T',s)"
   ]
  },
  {
   "cell_type": "code",
   "execution_count": 78,
   "metadata": {},
   "outputs": [
    {
     "data": {
      "text/plain": [
       "['4', '2']"
      ]
     },
     "execution_count": 78,
     "metadata": {},
     "output_type": "execute_result"
    }
   ],
   "source": [
    "## match only the numbers\n",
    "re.findall('[0-9]',s)"
   ]
  },
  {
   "cell_type": "code",
   "execution_count": 79,
   "metadata": {},
   "outputs": [
    {
     "data": {
      "text/plain": [
       "['T',\n",
       " 'o',\n",
       " 'd',\n",
       " 'a',\n",
       " 'y',\n",
       " 'y',\n",
       " 'o',\n",
       " 'u',\n",
       " 'a',\n",
       " 'r',\n",
       " 'e',\n",
       " 'y',\n",
       " 'o',\n",
       " 'u',\n",
       " 'T',\n",
       " 'h',\n",
       " 'a',\n",
       " 't',\n",
       " 'i',\n",
       " 's',\n",
       " 't',\n",
       " 'r',\n",
       " 'u',\n",
       " 'e',\n",
       " 'r',\n",
       " 't',\n",
       " 'h',\n",
       " 'a',\n",
       " 'n',\n",
       " 't',\n",
       " 'r',\n",
       " 'u',\n",
       " 'e',\n",
       " 'T',\n",
       " 'h',\n",
       " 'e',\n",
       " 'r',\n",
       " 'e',\n",
       " 'i',\n",
       " 's',\n",
       " 'n',\n",
       " 'o',\n",
       " 'o',\n",
       " 'n',\n",
       " 'e',\n",
       " 'a',\n",
       " 'l',\n",
       " 'i',\n",
       " 'v',\n",
       " 'e',\n",
       " 'w',\n",
       " 'h',\n",
       " 'o',\n",
       " 'i',\n",
       " 's',\n",
       " 'y',\n",
       " 'o',\n",
       " 'u',\n",
       " 'e',\n",
       " 'r',\n",
       " 't',\n",
       " 'h',\n",
       " 'a',\n",
       " 'n',\n",
       " 'y',\n",
       " 'o',\n",
       " 'u',\n",
       " 'Q',\n",
       " 'u',\n",
       " 'o',\n",
       " 't',\n",
       " 'e',\n",
       " '4',\n",
       " '2']"
      ]
     },
     "execution_count": 79,
     "metadata": {},
     "output_type": "execute_result"
    }
   ],
   "source": [
    "## match any word characters\n",
    "re.findall('\\w',s)"
   ]
  },
  {
   "cell_type": "code",
   "execution_count": 80,
   "metadata": {},
   "outputs": [
    {
     "data": {
      "text/plain": [
       "[' ',\n",
       " ' ',\n",
       " ' ',\n",
       " '!',\n",
       " ' ',\n",
       " ' ',\n",
       " ' ',\n",
       " ' ',\n",
       " ' ',\n",
       " '!',\n",
       " ' ',\n",
       " ' ',\n",
       " ' ',\n",
       " ' ',\n",
       " ' ',\n",
       " ' ',\n",
       " ' ',\n",
       " ' ',\n",
       " '-',\n",
       " ' ',\n",
       " ' ',\n",
       " '!',\n",
       " ' ',\n",
       " '(',\n",
       " ' ',\n",
       " ')']"
      ]
     },
     "execution_count": 80,
     "metadata": {},
     "output_type": "execute_result"
    }
   ],
   "source": [
    "## match any non-word characters\n",
    "re.findall('\\W',s)"
   ]
  },
  {
   "cell_type": "markdown",
   "metadata": {},
   "source": [
    "## Part II - Using regular expression special characters"
   ]
  },
  {
   "cell_type": "code",
   "execution_count": 81,
   "metadata": {
    "collapsed": true
   },
   "outputs": [],
   "source": [
    "s = \"You have brains in your head. \"\n",
    "s += \"You have feet in your shoes. \"\n",
    "s += \"You can steer yourself any direction you choose.  --Dr. Suess\""
   ]
  },
  {
   "cell_type": "code",
   "execution_count": 82,
   "metadata": {},
   "outputs": [
    {
     "data": {
      "text/plain": [
       "['You',\n",
       " 'have',\n",
       " 'brains',\n",
       " 'in',\n",
       " 'your',\n",
       " 'head',\n",
       " 'You',\n",
       " 'have',\n",
       " 'feet',\n",
       " 'in',\n",
       " 'your',\n",
       " 'shoes',\n",
       " 'You',\n",
       " 'can',\n",
       " 'steer',\n",
       " 'yourself',\n",
       " 'any',\n",
       " 'direction',\n",
       " 'you',\n",
       " 'choose',\n",
       " 'Dr',\n",
       " 'Suess']"
      ]
     },
     "execution_count": 82,
     "metadata": {},
     "output_type": "execute_result"
    }
   ],
   "source": [
    "## match all words\n",
    "re.findall(r'\\w+',s)"
   ]
  },
  {
   "cell_type": "code",
   "execution_count": 83,
   "metadata": {},
   "outputs": [
    {
     "data": {
      "text/plain": [
       "['You']"
      ]
     },
     "execution_count": 83,
     "metadata": {},
     "output_type": "execute_result"
    }
   ],
   "source": [
    "## match only the word touching the begining of the line\n",
    "re.findall(r'\\A\\w+',s)"
   ]
  },
  {
   "cell_type": "code",
   "execution_count": 84,
   "metadata": {},
   "outputs": [
    {
     "data": {
      "text/plain": [
       "['Suess']"
      ]
     },
     "execution_count": 84,
     "metadata": {},
     "output_type": "execute_result"
    }
   ],
   "source": [
    "## match the word touching the end of the line\n",
    "re.findall(r'\\w+\\Z',s)"
   ]
  },
  {
   "cell_type": "code",
   "execution_count": 85,
   "metadata": {},
   "outputs": [
    {
     "data": {
      "text/plain": [
       "[' h',\n",
       " ' b',\n",
       " ' i',\n",
       " ' y',\n",
       " ' h',\n",
       " ' Y',\n",
       " ' h',\n",
       " ' f',\n",
       " ' i',\n",
       " ' y',\n",
       " ' s',\n",
       " ' Y',\n",
       " ' c',\n",
       " ' s',\n",
       " ' y',\n",
       " ' a',\n",
       " ' d',\n",
       " ' y',\n",
       " ' c',\n",
       " ' S']"
      ]
     },
     "execution_count": 85,
     "metadata": {},
     "output_type": "execute_result"
    }
   ],
   "source": [
    "## match all letters that come after a single whitespace character\n",
    "re.findall('\\s\\w',s)"
   ]
  },
  {
   "cell_type": "code",
   "execution_count": 86,
   "metadata": {},
   "outputs": [
    {
     "data": {
      "text/plain": [
       "['you have', 'you have', 'you can', 'you choose']"
      ]
     },
     "execution_count": 86,
     "metadata": {},
     "output_type": "execute_result"
    }
   ],
   "source": [
    "## Can you create a pattern that will match \"you anyword\"?\n",
    "re.findall('you \\w+',s.lower())"
   ]
  },
  {
   "cell_type": "code",
   "execution_count": 163,
   "metadata": {},
   "outputs": [
    {
     "data": {
      "text/plain": [
       "['have', 'have', 'can', 'choose']"
      ]
     },
     "execution_count": 163,
     "metadata": {},
     "output_type": "execute_result"
    }
   ],
   "source": [
    "## Show that your previous regular expression gives your access to 'you' and 'anyword'\n",
    "#re.findall('you\\s+\\w+',s.lower())\n",
    "m = re.findall('(you)\\s+(\\w+)',s.lower())\n",
    "#[x[0] for x in m]\n",
    "[x[1] for x in m]"
   ]
  },
  {
   "cell_type": "markdown",
   "metadata": {},
   "source": [
    "## Part III - Phone numbers"
   ]
  },
  {
   "cell_type": "code",
   "execution_count": 116,
   "metadata": {
    "collapsed": true
   },
   "outputs": [],
   "source": [
    "text = \"there are so many ways that we see phone numbers.\"  \n",
    "text += \"For example, 777-1234-3333 and (123) 438-4435 are common\"\n",
    "text += \"but some countries use 44 45 68 13 23.\"  \n",
    "text += \"It gets even harder with country codes like +11.\""
   ]
  },
  {
   "cell_type": "code",
   "execution_count": 200,
   "metadata": {},
   "outputs": [
    {
     "data": {
      "text/plain": [
       "['777-1234-3333', '123) 438-4435', '44 45 68 13 23']"
      ]
     },
     "execution_count": 200,
     "metadata": {},
     "output_type": "execute_result"
    }
   ],
   "source": [
    "## write a regular expression that extracts all of the full phone numbers\n",
    "re.findall('\\d+[-]\\d+[-]\\d+|\\d+.\\s+\\d+[-]\\d+|\\d+\\s+\\d+\\s+\\d+\\s+\\d+\\s+\\d+',text)\n",
    "#re.findall(r'\\d+\\d+[-]\\d+',text)"
   ]
  },
  {
   "cell_type": "code",
   "execution_count": 132,
   "metadata": {
    "collapsed": true
   },
   "outputs": [],
   "source": [
    "## create a dictionary to store numbers where the keys are the area codes"
   ]
  },
  {
   "cell_type": "markdown",
   "metadata": {},
   "source": [
    "## Part IV - Backslashes"
   ]
  },
  {
   "cell_type": "code",
   "execution_count": 125,
   "metadata": {
    "collapsed": true
   },
   "outputs": [],
   "source": [
    "a = r'C://this_is/some directory/'\n",
    "b = r\"/this_is/some\\ directory\"\n",
    "c = r\"./this_is/some\\ other\\ directory/\""
   ]
  },
  {
   "cell_type": "code",
   "execution_count": 126,
   "metadata": {
    "collapsed": true
   },
   "outputs": [],
   "source": [
    "## use a single regular expression to break the strings into an iterable of directories\n",
    "## HINT: just return the two folders in each directory path"
   ]
  },
  {
   "cell_type": "code",
   "execution_count": 173,
   "metadata": {},
   "outputs": [
    {
     "name": "stdout",
     "output_type": "stream",
     "text": [
      "['C', 'this_is', 'some', 'directory']\n"
     ]
    }
   ],
   "source": [
    "m = re.findall('\\\\w+',a) \n",
    "print(m)\n",
    "#re.findall('\\\\w+|\\\\s+\\w+',b)\n",
    "#re.findall('\\\\w+|\\\\s+\\w+',c)"
   ]
  },
  {
   "cell_type": "code",
   "execution_count": null,
   "metadata": {
    "collapsed": true
   },
   "outputs": [],
   "source": []
  }
 ],
 "metadata": {
  "kernelspec": {
   "display_name": "Python 3",
   "language": "python",
   "name": "python3"
  },
  "language_info": {
   "codemirror_mode": {
    "name": "ipython",
    "version": 3
   },
   "file_extension": ".py",
   "mimetype": "text/x-python",
   "name": "python",
   "nbconvert_exporter": "python",
   "pygments_lexer": "ipython3",
   "version": "3.6.4"
  }
 },
 "nbformat": 4,
 "nbformat_minor": 2
}
